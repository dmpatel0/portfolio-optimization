{
 "cells": [
  {
   "cell_type": "markdown",
   "id": "11f3abcd",
   "metadata": {},
   "source": [
    "# Data Processing"
   ]
  },
  {
   "cell_type": "markdown",
   "id": "be8dd7f2",
   "metadata": {},
   "source": [
    "## Imports"
   ]
  },
  {
   "cell_type": "code",
   "execution_count": null,
   "id": "2a954c41",
   "metadata": {},
   "outputs": [],
   "source": [
    "import pandas as pd\n",
    "import seaborn as sns\n",
    "from matplotlib import pyplot as plt"
   ]
  },
  {
   "cell_type": "markdown",
   "id": "c70e9d71",
   "metadata": {},
   "source": [
    "## Data Exploration"
   ]
  },
  {
   "cell_type": "code",
   "execution_count": null,
   "id": "e8bd5ac2",
   "metadata": {},
   "outputs": [
    {
     "data": {
      "text/html": [
       "<div>\n",
       "<style scoped>\n",
       "    .dataframe tbody tr th:only-of-type {\n",
       "        vertical-align: middle;\n",
       "    }\n",
       "\n",
       "    .dataframe tbody tr th {\n",
       "        vertical-align: top;\n",
       "    }\n",
       "\n",
       "    .dataframe thead th {\n",
       "        text-align: right;\n",
       "    }\n",
       "</style>\n",
       "<table border=\"1\" class=\"dataframe\">\n",
       "  <thead>\n",
       "    <tr style=\"text-align: right;\">\n",
       "      <th></th>\n",
       "      <th>Date</th>\n",
       "      <th>Open</th>\n",
       "      <th>High</th>\n",
       "      <th>Low</th>\n",
       "      <th>Close</th>\n",
       "      <th>Volume</th>\n",
       "      <th>Dividends</th>\n",
       "      <th>Stock Splits</th>\n",
       "      <th>Ticker</th>\n",
       "      <th>Adj Close</th>\n",
       "    </tr>\n",
       "  </thead>\n",
       "  <tbody>\n",
       "    <tr>\n",
       "      <th>0</th>\n",
       "      <td>2020-08-10 00:00:00-04:00</td>\n",
       "      <td>109.652317</td>\n",
       "      <td>110.796560</td>\n",
       "      <td>107.120382</td>\n",
       "      <td>109.776482</td>\n",
       "      <td>212403600.0</td>\n",
       "      <td>0.0</td>\n",
       "      <td>0.0</td>\n",
       "      <td>AAPL</td>\n",
       "      <td>NaN</td>\n",
       "    </tr>\n",
       "    <tr>\n",
       "      <th>1</th>\n",
       "      <td>2020-08-11 00:00:00-04:00</td>\n",
       "      <td>109.038826</td>\n",
       "      <td>109.537906</td>\n",
       "      <td>106.251258</td>\n",
       "      <td>106.511757</td>\n",
       "      <td>187902400.0</td>\n",
       "      <td>0.0</td>\n",
       "      <td>0.0</td>\n",
       "      <td>AAPL</td>\n",
       "      <td>NaN</td>\n",
       "    </tr>\n",
       "    <tr>\n",
       "      <th>2</th>\n",
       "      <td>2020-08-12 00:00:00-04:00</td>\n",
       "      <td>107.604859</td>\n",
       "      <td>110.309652</td>\n",
       "      <td>107.410097</td>\n",
       "      <td>110.051590</td>\n",
       "      <td>165598000.0</td>\n",
       "      <td>0.0</td>\n",
       "      <td>0.0</td>\n",
       "      <td>AAPL</td>\n",
       "      <td>NaN</td>\n",
       "    </tr>\n",
       "    <tr>\n",
       "      <th>3</th>\n",
       "      <td>2020-08-13 00:00:00-04:00</td>\n",
       "      <td>111.434419</td>\n",
       "      <td>113.004709</td>\n",
       "      <td>110.945071</td>\n",
       "      <td>111.999237</td>\n",
       "      <td>210082000.0</td>\n",
       "      <td>0.0</td>\n",
       "      <td>0.0</td>\n",
       "      <td>AAPL</td>\n",
       "      <td>NaN</td>\n",
       "    </tr>\n",
       "    <tr>\n",
       "      <th>4</th>\n",
       "      <td>2020-08-14 00:00:00-04:00</td>\n",
       "      <td>111.823959</td>\n",
       "      <td>111.989507</td>\n",
       "      <td>110.085683</td>\n",
       "      <td>111.899429</td>\n",
       "      <td>165565200.0</td>\n",
       "      <td>0.0</td>\n",
       "      <td>0.0</td>\n",
       "      <td>AAPL</td>\n",
       "      <td>NaN</td>\n",
       "    </tr>\n",
       "  </tbody>\n",
       "</table>\n",
       "</div>"
      ],
      "text/plain": [
       "                        Date        Open        High         Low       Close  \\\n",
       "0  2020-08-10 00:00:00-04:00  109.652317  110.796560  107.120382  109.776482   \n",
       "1  2020-08-11 00:00:00-04:00  109.038826  109.537906  106.251258  106.511757   \n",
       "2  2020-08-12 00:00:00-04:00  107.604859  110.309652  107.410097  110.051590   \n",
       "3  2020-08-13 00:00:00-04:00  111.434419  113.004709  110.945071  111.999237   \n",
       "4  2020-08-14 00:00:00-04:00  111.823959  111.989507  110.085683  111.899429   \n",
       "\n",
       "        Volume  Dividends  Stock Splits Ticker  Adj Close  \n",
       "0  212403600.0        0.0           0.0   AAPL        NaN  \n",
       "1  187902400.0        0.0           0.0   AAPL        NaN  \n",
       "2  165598000.0        0.0           0.0   AAPL        NaN  \n",
       "3  210082000.0        0.0           0.0   AAPL        NaN  \n",
       "4  165565200.0        0.0           0.0   AAPL        NaN  "
      ]
     },
     "execution_count": 5,
     "metadata": {},
     "output_type": "execute_result"
    }
   ],
   "source": [
    "df = pd.read_csv('../data/sp500_dataset.csv')\n",
    "df['Date'] = pd.to_datetime(df['Date'])\n",
    "df.head()"
   ]
  },
  {
   "cell_type": "markdown",
   "id": "29826476",
   "metadata": {},
   "source": [
    "Lets check how much data each company has."
   ]
  },
  {
   "cell_type": "code",
   "execution_count": 27,
   "id": "2e143399",
   "metadata": {},
   "outputs": [
    {
     "name": "stdout",
     "output_type": "stream",
     "text": [
      "[1256 1241 1240 1230 1220 1170  892  663  568  463  344  343  219]\n"
     ]
    },
    {
     "data": {
      "text/plain": [
       "Ticker\n",
       "HES     1241\n",
       "ANSS    1240\n",
       "JNPR    1230\n",
       "PLTR    1220\n",
       "ABNB    1170\n",
       "CEG      892\n",
       "GEHC     663\n",
       "KVUE     568\n",
       "VLTO     463\n",
       "SOLV     344\n",
       "GEV      343\n",
       "AMTM     219\n",
       "dtype: int64"
      ]
     },
     "execution_count": 27,
     "metadata": {},
     "output_type": "execute_result"
    }
   ],
   "source": [
    "sub_df = df.groupby('Ticker').size().sort_values(ascending=False)\n",
    "print(sub_df.unique())\n",
    "sub_df[-12:]"
   ]
  },
  {
   "cell_type": "markdown",
   "id": "47496809",
   "metadata": {},
   "source": []
  },
  {
   "cell_type": "code",
   "execution_count": null,
   "id": "81983f7e",
   "metadata": {},
   "outputs": [],
   "source": []
  }
 ],
 "metadata": {
  "kernelspec": {
   "display_name": "venv",
   "language": "python",
   "name": "python3"
  },
  "language_info": {
   "codemirror_mode": {
    "name": "ipython",
    "version": 3
   },
   "file_extension": ".py",
   "mimetype": "text/x-python",
   "name": "python",
   "nbconvert_exporter": "python",
   "pygments_lexer": "ipython3",
   "version": "3.13.2"
  }
 },
 "nbformat": 4,
 "nbformat_minor": 5
}
