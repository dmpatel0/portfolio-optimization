{
 "cells": [
  {
   "cell_type": "markdown",
   "id": "11f3abcd",
   "metadata": {},
   "source": [
    "# Data Processing"
   ]
  },
  {
   "cell_type": "markdown",
   "id": "be8dd7f2",
   "metadata": {},
   "source": [
    "## Imports"
   ]
  },
  {
   "cell_type": "code",
   "execution_count": null,
   "id": "2a954c41",
   "metadata": {},
   "outputs": [],
   "source": [
    "import pandas as pd\n",
    "import seaborn as sns\n",
    "from matplotlib import pyplot as plt"
   ]
  },
  {
   "cell_type": "markdown",
   "id": "c70e9d71",
   "metadata": {},
   "source": [
    "## Data Exploration"
   ]
  },
  {
   "cell_type": "code",
   "execution_count": 34,
   "id": "e8bd5ac2",
   "metadata": {},
   "outputs": [
    {
     "name": "stderr",
     "output_type": "stream",
     "text": [
      "/var/folders/lx/zqn2b31x23qchtfzhwm5jbdw0000gn/T/ipykernel_2266/3578041768.py:2: FutureWarning: In a future version of pandas, parsing datetimes with mixed time zones will raise an error unless `utc=True`. Please specify `utc=True` to opt in to the new behaviour and silence this warning. To create a `Series` with mixed offsets and `object` dtype, please use `apply` and `datetime.datetime.strptime`\n",
      "  df['Date'] = pd.to_datetime(df['Date'])\n"
     ]
    },
    {
     "data": {
      "text/html": [
       "<div>\n",
       "<style scoped>\n",
       "    .dataframe tbody tr th:only-of-type {\n",
       "        vertical-align: middle;\n",
       "    }\n",
       "\n",
       "    .dataframe tbody tr th {\n",
       "        vertical-align: top;\n",
       "    }\n",
       "\n",
       "    .dataframe thead th {\n",
       "        text-align: right;\n",
       "    }\n",
       "</style>\n",
       "<table border=\"1\" class=\"dataframe\">\n",
       "  <thead>\n",
       "    <tr style=\"text-align: right;\">\n",
       "      <th></th>\n",
       "      <th>Date</th>\n",
       "      <th>Close</th>\n",
       "      <th>Dividends</th>\n",
       "      <th>Stock Splits</th>\n",
       "      <th>Ticker</th>\n",
       "      <th>Adj Close</th>\n",
       "    </tr>\n",
       "  </thead>\n",
       "  <tbody>\n",
       "    <tr>\n",
       "      <th>0</th>\n",
       "      <td>2020-08-10 00:00:00-04:00</td>\n",
       "      <td>109.776482</td>\n",
       "      <td>0.0</td>\n",
       "      <td>0.0</td>\n",
       "      <td>AAPL</td>\n",
       "      <td>NaN</td>\n",
       "    </tr>\n",
       "    <tr>\n",
       "      <th>1</th>\n",
       "      <td>2020-08-11 00:00:00-04:00</td>\n",
       "      <td>106.511757</td>\n",
       "      <td>0.0</td>\n",
       "      <td>0.0</td>\n",
       "      <td>AAPL</td>\n",
       "      <td>NaN</td>\n",
       "    </tr>\n",
       "    <tr>\n",
       "      <th>2</th>\n",
       "      <td>2020-08-12 00:00:00-04:00</td>\n",
       "      <td>110.051590</td>\n",
       "      <td>0.0</td>\n",
       "      <td>0.0</td>\n",
       "      <td>AAPL</td>\n",
       "      <td>NaN</td>\n",
       "    </tr>\n",
       "    <tr>\n",
       "      <th>3</th>\n",
       "      <td>2020-08-13 00:00:00-04:00</td>\n",
       "      <td>111.999237</td>\n",
       "      <td>0.0</td>\n",
       "      <td>0.0</td>\n",
       "      <td>AAPL</td>\n",
       "      <td>NaN</td>\n",
       "    </tr>\n",
       "    <tr>\n",
       "      <th>4</th>\n",
       "      <td>2020-08-14 00:00:00-04:00</td>\n",
       "      <td>111.899429</td>\n",
       "      <td>0.0</td>\n",
       "      <td>0.0</td>\n",
       "      <td>AAPL</td>\n",
       "      <td>NaN</td>\n",
       "    </tr>\n",
       "  </tbody>\n",
       "</table>\n",
       "</div>"
      ],
      "text/plain": [
       "                        Date       Close  Dividends  Stock Splits Ticker  \\\n",
       "0  2020-08-10 00:00:00-04:00  109.776482        0.0           0.0   AAPL   \n",
       "1  2020-08-11 00:00:00-04:00  106.511757        0.0           0.0   AAPL   \n",
       "2  2020-08-12 00:00:00-04:00  110.051590        0.0           0.0   AAPL   \n",
       "3  2020-08-13 00:00:00-04:00  111.999237        0.0           0.0   AAPL   \n",
       "4  2020-08-14 00:00:00-04:00  111.899429        0.0           0.0   AAPL   \n",
       "\n",
       "   Adj Close  \n",
       "0        NaN  \n",
       "1        NaN  \n",
       "2        NaN  \n",
       "3        NaN  \n",
       "4        NaN  "
      ]
     },
     "execution_count": 34,
     "metadata": {},
     "output_type": "execute_result"
    }
   ],
   "source": [
    "df = pd.read_csv('../data/sp500_dataset.csv')\n",
    "df['Date'] = pd.to_datetime(df['Date'])\n",
    "\n",
    "# Drop unneeded columns for efficiency, these columns will be preesent in the master dataset for later reference if needed.\n",
    "df = df.drop(columns=['Open', 'High', 'Low', 'Volume'])\n",
    "df.head()"
   ]
  },
  {
   "cell_type": "markdown",
   "id": "29826476",
   "metadata": {},
   "source": [
    "Check how much data each company has. We want to only keep the ones with enough meaningful data."
   ]
  },
  {
   "cell_type": "code",
   "execution_count": 35,
   "id": "2e143399",
   "metadata": {},
   "outputs": [
    {
     "name": "stdout",
     "output_type": "stream",
     "text": [
      "[1256 1241 1240 1230 1220 1170  892  663  568  463  344  343  219]\n"
     ]
    },
    {
     "data": {
      "text/plain": [
       "Ticker\n",
       "HES     1241\n",
       "ANSS    1240\n",
       "JNPR    1230\n",
       "PLTR    1220\n",
       "ABNB    1170\n",
       "CEG      892\n",
       "GEHC     663\n",
       "KVUE     568\n",
       "VLTO     463\n",
       "SOLV     344\n",
       "GEV      343\n",
       "AMTM     219\n",
       "dtype: int64"
      ]
     },
     "execution_count": 35,
     "metadata": {},
     "output_type": "execute_result"
    }
   ],
   "source": [
    "sub_df = df.groupby('Ticker').size().sort_values(ascending=False)\n",
    "print(sub_df.unique())\n",
    "sub_df[-12:]"
   ]
  },
  {
   "cell_type": "markdown",
   "id": "f899d773",
   "metadata": {},
   "source": [
    "Drop the companies with more than approx 30 days of missing data."
   ]
  },
  {
   "cell_type": "code",
   "execution_count": 36,
   "id": "81983f7e",
   "metadata": {},
   "outputs": [
    {
     "name": "stdout",
     "output_type": "stream",
     "text": [
      "[1256 1241 1240 1230 1220]\n"
     ]
    }
   ],
   "source": [
    "drop_list = ['ABNB', 'CEG', 'GEHC', 'KVUE', 'VLTO', 'SOLV', 'GEV', 'AMTM']\n",
    "for c in drop_list:\n",
    "    df = df[df['Ticker'] != c]\n",
    "\n",
    "# Verify the companies were dropped\n",
    "sub_df = df.groupby('Ticker').size().sort_values(ascending=False)\n",
    "print(sub_df.unique())"
   ]
  },
  {
   "cell_type": "markdown",
   "id": "e5e311bb",
   "metadata": {},
   "source": [
    "Next, we want to account for dividends and stock splits in our dataset. This will help populate the 'Adj Close' feature column. "
   ]
  },
  {
   "cell_type": "code",
   "execution_count": null,
   "id": "7cf3e684",
   "metadata": {},
   "outputs": [
    {
     "name": "stdout",
     "output_type": "stream",
     "text": [
      "7753\n"
     ]
    }
   ],
   "source": [
    "# Sort the DF by Ticker and Date\n",
    "df.sort_values(by=['Ticker', 'Date'], inplace=True)\n",
    "\n",
    "calc_df = df.copy()\n",
    "\n",
    "# The factor to change based on splits depends on the number of splits\n",
    "# For example, if a company splits 2:1, then the factor is 1/2\n",
    "splits = calc_df['Stock Splits'].replace(0, 1).fillna(1)\n",
    "split_step = 1 / splits \n",
    "\n",
    "# Adjust for dividents as well\n",
    "# Adjust the price based on factor = 1 - (Dividend / Close)\n",
    "div_step = 1 - (calc_df['Dividends'] / calc_df['Close']).where((calc_df['Dividends'] > 0) & (calc_df['Close'] > 0), 0)\n",
    "\n",
    "combined_step = (split_step * div_step).astype('float64')\n",
    "\n",
    "# Sort it in reverse order for the next step: applying the factor\n",
    "calc_df.sort_values(by=['Ticker', 'Date'], ascending=[True, False], inplace=True)\n",
    "\n"
   ]
  }
 ],
 "metadata": {
  "kernelspec": {
   "display_name": "venv",
   "language": "python",
   "name": "python3"
  },
  "language_info": {
   "codemirror_mode": {
    "name": "ipython",
    "version": 3
   },
   "file_extension": ".py",
   "mimetype": "text/x-python",
   "name": "python",
   "nbconvert_exporter": "python",
   "pygments_lexer": "ipython3",
   "version": "3.13.2"
  }
 },
 "nbformat": 4,
 "nbformat_minor": 5
}
